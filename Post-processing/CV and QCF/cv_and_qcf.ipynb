{
 "cells": [
  {
   "cell_type": "code",
   "execution_count": 1,
   "id": "194d6c03",
   "metadata": {},
   "outputs": [],
   "source": [
    "import numpy as np\n",
    "from scipy import integrate\n",
    "import matplotlib.pyplot as plt\n",
    "import pandas as pd"
   ]
  },
  {
   "cell_type": "code",
   "execution_count": 2,
   "id": "ead5a45b",
   "metadata": {},
   "outputs": [],
   "source": [
    "pdos = pd.read_csv(\"sum_pdos\", sep=\" \", header=None)\n",
    "w = pd.read_csv(\"sum_nu\", sep=\" \", header=None)\n",
    "exp_gpt = pd.read_csv(\"exp_gpt.csv\", sep=\",\", header=None) # Experimental data (Pop, et. al)"
   ]
  },
  {
   "cell_type": "code",
   "execution_count": 5,
   "id": "5d23c83c",
   "metadata": {},
   "outputs": [],
   "source": [
    "h = 6.62607015e-34\n",
    "h_cor = h/np.pi\n",
    "kb = 1.380649e-23\n",
    "Na = 6.02214076e23\n",
    "triR = 3*Na*kb"
   ]
  },
  {
   "cell_type": "code",
   "execution_count": 6,
   "id": "35354ef5",
   "metadata": {},
   "outputs": [
    {
     "name": "stderr",
     "output_type": "stream",
     "text": [
      "/tmp/ipykernel_14861/3561111645.py:10: RuntimeWarning: divide by zero encountered in double_scalars\n",
      "  u = (h_cor*omega)/(kb*T)\n",
      "/tmp/ipykernel_14861/3561111645.py:11: RuntimeWarning: invalid value encountered in double_scalars\n",
      "  t1 = (u**2*np.exp(u))/((np.exp(u)-1)**2)\n"
     ]
    }
   ],
   "source": [
    "faktor = []\n",
    "temp = range(0,1501,10)\n",
    "tempe = []\n",
    "for j in range(0,len(temp)):\n",
    "    T = temp[j]\n",
    "    gw = []\n",
    "    for i in range(len(pdos)):\n",
    "        thz = pd.to_numeric(w[0][i]) \n",
    "        omega = np.multiply(thz, 1e12)\n",
    "        u = (h_cor*omega)/(kb*T)\n",
    "        t1 = (u**2*np.exp(u))/((np.exp(u)-1)**2)\n",
    "        a = pd.to_numeric(pdos[0][i])  \n",
    "        gw.append(a)\n",
    "        t_up = np.multiply(t1,gw)   \n",
    "        t_dw = gw\n",
    "\n",
    "    t_upin = np.sum(t_up, axis =0, initial=0)\n",
    "    t_dwin = np.sum(t_dw, axis =0, initial=0)\n",
    "    faktor.append(t_upin/t_dwin)\n",
    "    tempe.append(T)\n",
    "    \n",
    "cv = np.multiply(faktor,triR)"
   ]
  },
  {
   "cell_type": "markdown",
   "id": "431808d1",
   "metadata": {},
   "source": [
    "Quantum Correction Factor"
   ]
  },
  {
   "cell_type": "code",
   "execution_count": 7,
   "id": "9a87491f",
   "metadata": {},
   "outputs": [
    {
     "name": "stdout",
     "output_type": "stream",
     "text": [
      "5.352077351922577\n",
      "11.94974065945414\n",
      "18.911299771219998\n",
      "21.617217286040336\n"
     ]
    }
   ],
   "source": [
    "find = [200,300,500,700]\n",
    "for k in range(0,len(find)):\n",
    "    f = np.interp(find[k], tempe, cv)\n",
    "    print(f)"
   ]
  },
  {
   "cell_type": "code",
   "execution_count": 8,
   "id": "80ae0b32",
   "metadata": {},
   "outputs": [
    {
     "data": {
      "text/plain": [
       "<matplotlib.legend.Legend at 0x7fdbfdb16790>"
      ]
     },
     "execution_count": 8,
     "metadata": {},
     "output_type": "execute_result"
    },
    {
     "data": {
      "image/png": "[encoded data removed]",
      "text/plain": [
       "<Figure size 360x216 with 1 Axes>"
      ]
     },
     "metadata": {
      "needs_background": "light"
     },
     "output_type": "display_data"
    }
   ],
   "source": [
    "plt.figure(figsize=(5,3))\n",
    "plt.axhline(y=triR, color='C0', linestyle='--', linewidth = 2, label = \"Dulong-Petit\")\n",
    "plt.plot(tempe,cv,linewidth = 2, color=\"C1\", label = \"Simulation\")\n",
    "plt.scatter(exp_gpt[0],exp_gpt[1], label=\"Experiment\", color=\"C2\", s = 20)\n",
    "plt.xlabel(r'Temperature (K)',fontsize=14)\n",
    "plt.ylabel('$C_V$ (J/mol$\\cdot$K)', fontsize=14)\n",
    "plt.xlim(0,tempe[-1])\n",
    "plt.ylim(0, triR+3)\n",
    "plt.xticks(fontsize = 14)\n",
    "plt.yticks(fontsize = 14)\n",
    "plt.legend(fontsize = 14, loc=4)"
   ]
  },
  {
   "cell_type": "code",
   "execution_count": null,
   "id": "a22e547c",
   "metadata": {},
   "outputs": [],
   "source": []
  }
 ],
 "metadata": {
  "kernelspec": {
   "display_name": "Python 3 (ipykernel)",
   "language": "python",
   "name": "python3"
  },
  "language_info": {
   "codemirror_mode": {
    "name": "ipython",
    "version": 3
   },
   "file_extension": ".py",
   "mimetype": "text/x-python",
   "name": "python",
   "nbconvert_exporter": "python",
   "pygments_lexer": "ipython3",
   "version": "3.9.7"
  }
 },
 "nbformat": 4,
 "nbformat_minor": 5
}
